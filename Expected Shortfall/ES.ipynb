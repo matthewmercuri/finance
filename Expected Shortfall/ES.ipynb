{
 "cells": [
  {
   "cell_type": "markdown",
   "id": "e3f4a001",
   "metadata": {},
   "source": [
    "# An Introduction to Expected Shortfall"
   ]
  },
  {
   "cell_type": "markdown",
   "id": "1525a9c5",
   "metadata": {},
   "source": [
    "## What is Expected Shortfall?\n",
    "Expected shortfall (ES), also known as Conditional Value-at-Risk (CVaR), is yet another quantile based risk metric widely used in quantitative finance. ES extends VaR to tell an investor more about their \"tail risk.\" That is to say, it gives them more information about potential large losses. VaR answers the question \"what is the <b>minimum</b> amount I will lose on the x% worst trading days?\" ES extends this to answer, \"what is the <b>average</b> amount I will lose on the x% worst trading days?\"\n",
    "\n",
    "So clearly, the motivation behind ES is to understand more about large losses and the risk profile of any given portfolio."
   ]
  },
  {
   "cell_type": "markdown",
   "id": "a83da8aa",
   "metadata": {},
   "source": [
    "## Advantage Over VaR"
   ]
  },
  {
   "cell_type": "markdown",
   "id": "3753ec12",
   "metadata": {},
   "source": [
    "The main advantage of ES over VaR stems from the fact that ES conforms to the properties of what is known as a <b>coherent</b> risk measure. For a measure to be considered coherent, there are some mathematical properties that must hold true for it. If you are interested to see exactly how ES conforms to the properties of a coherent risk measure, please take a look at [this wiki page](https://en.wikipedia.org/wiki/Coherent_risk_measure). For now, it is important to note that VaR is not coherent because it does not obey the notion of sub-additivity. Namely, the VaR of a portfolio's holdings is not necessarily equal to the VaR of the entire portfolio.\n",
    "\n",
    "On the other hand, ES is sub-additive and conforms to the other necessary criteria. This means that it can be used to do things like [specify capital requirements for banks](https://en.wikipedia.org/wiki/Basel_Accords), and inform portfolio opimization techniques. Also, the direct interpretation of ES is a lot more useful to an investor.\n",
    "\n",
    "The illustration below offers a good visual representation of ES and how it compares to VaR. What you are seeing is the loss distribution of a portfolio. Losses increase as you go right along the x-axis. The right tail is what we are concerned with.\n",
    "\n",
    "<img src='./esill.jpg' alt='expected shortfall illustration' width=500>"
   ]
  },
  {
   "cell_type": "markdown",
   "id": "df8c5dab",
   "metadata": {},
   "source": [
    "## Mathematical Definition\n",
    "Let $X$ be a random variable on the loss distribution of a portfolio. Expected shortfall is defined as:\n",
    "\n",
    "$\\textrm{ES}_\\alpha(X)=\\textrm{E}[X | X \\geq \\textrm{VaR}_\\alpha(X) ]$ \n",
    "\n",
    "given that:\n",
    "\n",
    "$\\textrm{VaR}_\\alpha(X)=\\textrm{min}\\{z | F_X(z) \\geq \\alpha\\}$\n",
    "\n",
    "Note: $\\alpha \\in (0,1)$\n",
    "\n",
    "ES can be read as the expected value of the random variable $X$ when the VaR for that $\\alpha$ is met. If you look online, you will see many more definitions of ES and VaR. I just prefer these as they are agnostic towards assuming any specific return (or loss) distribution of a portfolio."
   ]
  },
  {
   "cell_type": "markdown",
   "id": "548207f1",
   "metadata": {},
   "source": [
    "## Putting ES to Use Through Code"
   ]
  },
  {
   "cell_type": "markdown",
   "id": "f83a2279",
   "metadata": {},
   "source": [
    "To make ES usefull to us, we will need to put it into code. Below I do exactly that. The exact procedure is as follows:\n",
    "1. Create a portfolio\n",
    "2. Calculate and show the loss distribution of the portfolio\n",
    "3. Find the VaR at the level of alpha we choose (95% and 99%)\n",
    "4. Find the ES corresponding to the different values of alpha\n",
    "5. Display and compare results\n",
    "\n",
    "The method that I will employ here is the historical method. This assumes no specific distribution for the portfolio's returns. This has the advantage of not introducing modelling error when choosing an arbitrary return distribution. The major caveat to employing this method is that it is not entirely accurate when the return distribution is likely to change over time (which it most likely will). Different investors will have their own ways to model a portfolio's returns and thus calculate VaR and ES. I will definitely share more methods at a later time.\n",
    "\n",
    "With the historical method, we are going to use two years worth of data. Why? Again, this is a just a choice. Too much data and you are going to encorporate data that may not be relevant to the portfolio today. Too little, and the metrics will offer little insight. Two years seems like a decent enough balance, though it is not a sophisticated choice. The goal here is simply to demonstrate what ES is and how it can be used in practice."
   ]
  },
  {
   "cell_type": "markdown",
   "id": "265c8714",
   "metadata": {},
   "source": [
    "### Constructing the Portfolio"
   ]
  },
  {
   "cell_type": "markdown",
   "id": "1495ef00",
   "metadata": {},
   "source": [
    "We will assume our hypothetical portfolio has:\n",
    "- 3 shares of GOOG\n",
    "- 20 shares of AAPL\n",
    "- 15 shares of MSFT"
   ]
  },
  {
   "cell_type": "code",
   "execution_count": 25,
   "id": "d7c3ff1f",
   "metadata": {},
   "outputs": [],
   "source": [
    "import matplotlib.pyplot as plt\n",
    "import numpy as np\n",
    "import pandas as pd\n",
    "pd.options.mode.chained_assignment = None\n",
    "import yfinance as yf"
   ]
  },
  {
   "cell_type": "code",
   "execution_count": 121,
   "id": "037e710b",
   "metadata": {},
   "outputs": [
    {
     "name": "stdout",
     "output_type": "stream",
     "text": [
      "[*********************100%***********************]  3 of 3 completed\n"
     ]
    },
    {
     "data": {
      "text/html": [
       "<div>\n",
       "<style scoped>\n",
       "    .dataframe tbody tr th:only-of-type {\n",
       "        vertical-align: middle;\n",
       "    }\n",
       "\n",
       "    .dataframe tbody tr th {\n",
       "        vertical-align: top;\n",
       "    }\n",
       "\n",
       "    .dataframe thead th {\n",
       "        text-align: right;\n",
       "    }\n",
       "</style>\n",
       "<table border=\"1\" class=\"dataframe\">\n",
       "  <thead>\n",
       "    <tr style=\"text-align: right;\">\n",
       "      <th></th>\n",
       "      <th>AAPL</th>\n",
       "      <th>GOOG</th>\n",
       "      <th>MSFT</th>\n",
       "      <th>Portfolio</th>\n",
       "      <th>log_ret</th>\n",
       "    </tr>\n",
       "    <tr>\n",
       "      <th>Date</th>\n",
       "      <th></th>\n",
       "      <th></th>\n",
       "      <th></th>\n",
       "      <th></th>\n",
       "      <th></th>\n",
       "    </tr>\n",
       "  </thead>\n",
       "  <tbody>\n",
       "    <tr>\n",
       "      <th>2021-06-16</th>\n",
       "      <td>130.149994</td>\n",
       "      <td>2513.929932</td>\n",
       "      <td>257.380005</td>\n",
       "      <td>14005.489746</td>\n",
       "      <td>-0.001761</td>\n",
       "    </tr>\n",
       "    <tr>\n",
       "      <th>2021-06-17</th>\n",
       "      <td>131.789993</td>\n",
       "      <td>2527.419922</td>\n",
       "      <td>260.899994</td>\n",
       "      <td>14131.559540</td>\n",
       "      <td>0.008961</td>\n",
       "    </tr>\n",
       "    <tr>\n",
       "      <th>2021-06-18</th>\n",
       "      <td>130.460007</td>\n",
       "      <td>2511.350098</td>\n",
       "      <td>259.429993</td>\n",
       "      <td>14034.700317</td>\n",
       "      <td>-0.006878</td>\n",
       "    </tr>\n",
       "    <tr>\n",
       "      <th>2021-06-21</th>\n",
       "      <td>132.300003</td>\n",
       "      <td>2529.100098</td>\n",
       "      <td>262.630005</td>\n",
       "      <td>14172.750427</td>\n",
       "      <td>0.009788</td>\n",
       "    </tr>\n",
       "    <tr>\n",
       "      <th>2021-06-22</th>\n",
       "      <td>133.979996</td>\n",
       "      <td>2539.989990</td>\n",
       "      <td>265.510010</td>\n",
       "      <td>14282.220032</td>\n",
       "      <td>0.007694</td>\n",
       "    </tr>\n",
       "  </tbody>\n",
       "</table>\n",
       "</div>"
      ],
      "text/plain": [
       "                  AAPL         GOOG        MSFT     Portfolio   log_ret\n",
       "Date                                                                   \n",
       "2021-06-16  130.149994  2513.929932  257.380005  14005.489746 -0.001761\n",
       "2021-06-17  131.789993  2527.419922  260.899994  14131.559540  0.008961\n",
       "2021-06-18  130.460007  2511.350098  259.429993  14034.700317 -0.006878\n",
       "2021-06-21  132.300003  2529.100098  262.630005  14172.750427  0.009788\n",
       "2021-06-22  133.979996  2539.989990  265.510010  14282.220032  0.007694"
      ]
     },
     "execution_count": 121,
     "metadata": {},
     "output_type": "execute_result"
    }
   ],
   "source": [
    "# defining tickers to gather data on, yfinance takes a string of tickers\n",
    "tickers = \"GOOG AAPL MSFT\"\n",
    "shares_goog = 3\n",
    "shares_aapl = 20\n",
    "shares_msft = 15\n",
    "\n",
    "# using yfinance to fetch price data, choosing a period of 2 years\n",
    "data = yf.download(tickers=tickers, period=\"2y\")\n",
    "\n",
    "# selecting just adjusted close data\n",
    "df = data['Adj Close']\n",
    "\n",
    "# creating portfolio column\n",
    "df['Portfolio'] = ((df['AAPL'] * shares_aapl) +\n",
    "                   (df['GOOG'] * shares_goog) +\n",
    "                   (df['MSFT'] * shares_msft))\n",
    "\n",
    "# calculating logarithmic returns\n",
    "df['log_ret'] = np.log(df['Portfolio']) - np.log(df['Portfolio'].shift(1))\n",
    "df.dropna(subset=['log_ret'], inplace=True)\n",
    "\n",
    "df.tail()"
   ]
  },
  {
   "cell_type": "markdown",
   "id": "6ffeb528",
   "metadata": {},
   "source": [
    "### The Loss Distribution"
   ]
  },
  {
   "cell_type": "markdown",
   "id": "8a3d4f5e",
   "metadata": {},
   "source": [
    "Here we show a histogram of the logarithmic returns we calculated previously. Again, we are trying to focus on the right tail of this distribution with ES and VaR."
   ]
  },
  {
   "cell_type": "code",
   "execution_count": 73,
   "id": "58d4859b",
   "metadata": {},
   "outputs": [
    {
     "data": {
      "image/png": "[encoded data removed]",
      "text/plain": [
       "<Figure size 432x288 with 1 Axes>"
      ]
     },
     "metadata": {
      "needs_background": "light"
     },
     "output_type": "display_data"
    }
   ],
   "source": [
    "log_losses = -1*(df['log_ret'].to_numpy())\n",
    "\n",
    "plt.hist(log_losses, bins=25)\n",
    "plt.xlabel('Log Loss')\n",
    "plt.ylabel('Frequency')\n",
    "plt.title('Portfolio Loss Distribution (Log Return)')\n",
    "plt.show()\n"
   ]
  },
  {
   "cell_type": "markdown",
   "id": "b31a8d71",
   "metadata": {},
   "source": [
    "### Finding VaR"
   ]
  },
  {
   "cell_type": "markdown",
   "id": "1d259e48",
   "metadata": {},
   "source": [
    "We can use the built-in quantile function in numpy in order to conveniently find values for VaR. By default, numpy interpolates the value linearly."
   ]
  },
  {
   "cell_type": "code",
   "execution_count": 95,
   "id": "bd757859",
   "metadata": {},
   "outputs": [
    {
     "name": "stdout",
     "output_type": "stream",
     "text": [
      "The VaR at alpha 95% and 99% is $407.69 and $750.01, respectively.\n"
     ]
    }
   ],
   "source": [
    "# sorting array of log returns and multiplying by -1 to get losses\n",
    "sorted_log_returns = -1*np.sort(df['log_ret'].to_numpy())\n",
    "\n",
    "var_95_log = np.quantile(sorted_log_returns, 0.95)\n",
    "var_99_log = np.quantile(sorted_log_returns, 0.99)\n",
    "\n",
    "# converting to dollar amount\n",
    "last_port_value = df['Portfolio'].tail(1).iloc[0]\n",
    "\n",
    "var_95 = round(last_port_value * var_95_log, 2)\n",
    "var_99 = round(last_port_value * var_99_log, 2)\n",
    "\n",
    "print(f'The VaR at alpha 95% and 99% is ${var_95} and ${var_99}, respectively.')"
   ]
  },
  {
   "cell_type": "markdown",
   "id": "9accc2bc",
   "metadata": {},
   "source": [
    "### Finding ES"
   ]
  },
  {
   "cell_type": "markdown",
   "id": "5b714946",
   "metadata": {},
   "source": [
    "To find ES, all we have to do is find the returns that are at least as great as the value for VaR. Then, we average over these returns.\n",
    "\n",
    "<b>Note</b>: by the definition of ES, we should witness about $(1-\\alpha)\\times N$ returns that meet or exceed VaR for any level of alpha. Here, $N$ represents the number of days we used in our calculation. We will verify this below."
   ]
  },
  {
   "cell_type": "code",
   "execution_count": 117,
   "id": "1fa0facf",
   "metadata": {},
   "outputs": [
    {
     "name": "stdout",
     "output_type": "stream",
     "text": [
      "The VaR at alpha 95% and 99% is $691.79 and $1134.75, respectively.\n"
     ]
    }
   ],
   "source": [
    "# finding where VaR is met and exceeded\n",
    "es_95_df = df[(-1*df['log_ret']) >= var_95_log]\n",
    "es_99_df = df[(-1*df['log_ret']) >= var_99_log]\n",
    "\n",
    "# averaging over the necessary returns\n",
    "es_95 = round(-1*es_95_df['log_ret'].mean()*last_port_value, 2)\n",
    "es_99 = round(-1*es_99_df['log_ret'].mean()*last_port_value, 2)\n",
    "\n",
    "print(f'The VaR at alpha 95% and 99% is ${es_95} and ${es_99}, respectively.')"
   ]
  },
  {
   "cell_type": "code",
   "execution_count": 118,
   "id": "fb1743f7",
   "metadata": {},
   "outputs": [
    {
     "name": "stdout",
     "output_type": "stream",
     "text": [
      "There are 26 and 6 returns used for our calculation of ES at alpha 95% and 99%, respectively.\n"
     ]
    }
   ],
   "source": [
    "print(f'There are {len(es_95_df)} and {len(es_99_df)} returns used for our calculation of ES at alpha 95% and 99%, respectively.')"
   ]
  },
  {
   "cell_type": "markdown",
   "id": "29b3f32a",
   "metadata": {},
   "source": [
    "### Comparing Results"
   ]
  },
  {
   "cell_type": "code",
   "execution_count": 120,
   "id": "cf5cf0eb",
   "metadata": {},
   "outputs": [
    {
     "data": {
      "text/html": [
       "<div>\n",
       "<style scoped>\n",
       "    .dataframe tbody tr th:only-of-type {\n",
       "        vertical-align: middle;\n",
       "    }\n",
       "\n",
       "    .dataframe tbody tr th {\n",
       "        vertical-align: top;\n",
       "    }\n",
       "\n",
       "    .dataframe thead th {\n",
       "        text-align: right;\n",
       "    }\n",
       "</style>\n",
       "<table border=\"1\" class=\"dataframe\">\n",
       "  <thead>\n",
       "    <tr style=\"text-align: right;\">\n",
       "      <th></th>\n",
       "      <th>95% VaR</th>\n",
       "      <th>95% ES</th>\n",
       "      <th>99% VaR</th>\n",
       "      <th>99% ES</th>\n",
       "    </tr>\n",
       "  </thead>\n",
       "  <tbody>\n",
       "    <tr>\n",
       "      <th>Loss</th>\n",
       "      <td>$407.69</td>\n",
       "      <td>$691.79</td>\n",
       "      <td>$750.01</td>\n",
       "      <td>$1134.75</td>\n",
       "    </tr>\n",
       "  </tbody>\n",
       "</table>\n",
       "</div>"
      ],
      "text/plain": [
       "      95% VaR   95% ES  99% VaR    99% ES\n",
       "Loss  $407.69  $691.79  $750.01  $1134.75"
      ]
     },
     "execution_count": 120,
     "metadata": {},
     "output_type": "execute_result"
    }
   ],
   "source": [
    "data_dict = {'Loss': {'95% VaR': f'${var_95}', '95% ES': f'${es_95}',\n",
    "                         '99% VaR': f'${var_99}', '99% ES': f'${es_99}'}\n",
    "            }\n",
    "\n",
    "res_df = pd.DataFrame.from_dict(data_dict, orient='index')\n",
    "res_df"
   ]
  },
  {
   "cell_type": "markdown",
   "id": "1a66d414",
   "metadata": {},
   "source": [
    "Looking at the results, there are a couple more important observations to be made. First of all, we see that in both cases ES is larger than VaR. This is another fact that follows from the definition of ES. If we found VaR to have a value that exceeded ES, then we know we did something wrong. Lastly, at higher levels of alpha, we obtain higher values for VaR and ES. This is a direct result from the quantile we choose and how it aligns with the loss distribution. The higher the value for alpha, the higher the values for VaR and ES. With most distributions, we should witness the values for VaR and ES increasing non-linearly as we increase alpha."
   ]
  },
  {
   "cell_type": "markdown",
   "id": "36eab897",
   "metadata": {},
   "source": [
    "## Conclusion and Next Steps"
   ]
  },
  {
   "cell_type": "markdown",
   "id": "5a2f5c01",
   "metadata": {},
   "source": [
    "To summarize, we first explained what expected shortfall is and how it extends value-at-risk. We then took a look at its mathematical definition and why it is considered a coherent risk measure. We then learned why it is useful to investors and risk managers. The rest of the notebook is dedicated towards how it can be used in practice.\n",
    "\n",
    "To extend these ideas, I would advise you to look into how one may better model a portfolio's return distribution. You can use tools like Gaussian copulas or empirical CDFs."
   ]
  }
 ],
 "metadata": {
  "kernelspec": {
   "display_name": "Python 3",
   "language": "python",
   "name": "python3"
  },
  "language_info": {
   "codemirror_mode": {
    "name": "ipython",
    "version": 3
   },
   "file_extension": ".py",
   "mimetype": "text/x-python",
   "name": "python",
   "nbconvert_exporter": "python",
   "pygments_lexer": "ipython3",
   "version": "3.9.5"
  }
 },
 "nbformat": 4,
 "nbformat_minor": 5
}
